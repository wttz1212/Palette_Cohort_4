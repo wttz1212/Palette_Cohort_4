{
 "cells": [
  {
   "cell_type": "markdown",
   "metadata": {},
   "source": [
    "**Please follow the instructions. Do not add new cell! Write your code in designated areas.**"
   ]
  },
  {
   "cell_type": "code",
   "execution_count": 1,
   "metadata": {},
   "outputs": [
    {
     "name": "stdout",
     "output_type": "stream",
     "text": [
      "Assignment 1 & 2: Solutions by Evan Wu\n",
      "Local Time: 2023-09-16 22:54:35\n",
      "Computer ID: LAPTOP-VG65MID3\n"
     ]
    }
   ],
   "source": [
    "import datetime\n",
    "import socket\n",
    "\n",
    "# Get local time\n",
    "local_time = datetime.datetime.now().strftime(\"%Y-%m-%d %H:%M:%S\")\n",
    "\n",
    "# Get computer ID or hostname\n",
    "computer_id = socket.gethostname()\n",
    "\n",
    "# Print output with local time and computer ID\n",
    "print('Assignment 1 & 2: Solutions by Evan Wu') # Please change your name here\n",
    "print('Local Time:', local_time)\n",
    "print('Computer ID:', computer_id)"
   ]
  },
  {
   "cell_type": "markdown",
   "metadata": {},
   "source": [
    "**Note that you have to run this code in your local engine to pass the assignments**"
   ]
  },
  {
   "cell_type": "markdown",
   "metadata": {},
   "source": [
    "# Assignment 1"
   ]
  },
  {
   "cell_type": "markdown",
   "metadata": {},
   "source": [
    "## Exercise 1: String Manipulation"
   ]
  },
  {
   "cell_type": "markdown",
   "metadata": {},
   "source": [
    "Develop a function that accepts a string parameter indicating a crop name and gives back the crop name in capital letters. Hints: str, upper()"
   ]
  },
  {
   "cell_type": "code",
   "execution_count": 2,
   "metadata": {},
   "outputs": [],
   "source": [
    "## Your code here down\n",
    "def capitalize_name(name):\n",
    "    capitalized = name.upper()\n",
    "    return capitalized\n",
    "\n",
    "## Testing passed\n",
    "#capitalize_name('Telus')\n",
    "\n",
    "## Your code here up"
   ]
  },
  {
   "cell_type": "markdown",
   "metadata": {},
   "source": [
    "## Exercise 2: Crop Count"
   ]
  },
  {
   "cell_type": "markdown",
   "metadata": {},
   "source": [
    "Create a function that receives a list of crop names (lentil, barley, canola, spring wheat, durum wheat, oats, alfalfa) and outputs the total number of crops. Hints: list, length."
   ]
  },
  {
   "cell_type": "code",
   "execution_count": 3,
   "metadata": {},
   "outputs": [],
   "source": [
    "## Your code here down\n",
    "def count_names(list):\n",
    "    number = len(list)\n",
    "    return number\n",
    "\n",
    "##Testing passed\n",
    "#crops = ['lentil', 'barley', 'canola']\n",
    "#count_names(crops)\n",
    "\n",
    "## Your code here up"
   ]
  },
  {
   "cell_type": "markdown",
   "metadata": {},
   "source": [
    "## Exercise 3: Temperature Conversion"
   ]
  },
  {
   "cell_type": "markdown",
   "metadata": {},
   "source": [
    "Create a function that takes a temperature in Celsius and converts it to Fahrenheit. Return the converted temperature. Keys:def, find converter."
   ]
  },
  {
   "cell_type": "code",
   "execution_count": 4,
   "metadata": {},
   "outputs": [],
   "source": [
    "## Your code here down\n",
    "def celsius_to_fahrenheit(temp_celsius):\n",
    "    temp_fahrenheit = temp_celsius * 9/5 + 32\n",
    "    return temp_fahrenheit\n",
    "\n",
    "##Testing passed\n",
    "#celsius_to_fahrenheit(5)\n",
    "\n",
    "## Your code here up"
   ]
  },
  {
   "cell_type": "markdown",
   "metadata": {},
   "source": [
    "## Exercise 4: Crop Harvest"
   ]
  },
  {
   "cell_type": "markdown",
   "metadata": {},
   "source": [
    "Create a function that takes the yield of canola crop (in bushels) and returns a string indicating whether it's a high, moderate, or low yield. Keys: strings, if-else, print()"
   ]
  },
  {
   "cell_type": "code",
   "execution_count": 5,
   "metadata": {},
   "outputs": [],
   "source": [
    "## Your code here down\n",
    "\n",
    "## The high-yielding canola benchmark is 50-60 bushels per acre\n",
    "## A low-yielding canola is usually below 30 bushels per acre\n",
    "## Source: https://sl.bing.net/ismEykQTHky\n",
    "\n",
    "def find_yield(bushels, acre=1):\n",
    "    if bushels/acre >= 50:\n",
    "        result = 'high yield'\n",
    "    elif bushels/acre >= 30:\n",
    "        result = 'moderate yield'\n",
    "    else:\n",
    "        result = 'low yield'\n",
    "    return result\n",
    "\n",
    "#Testing passed\n",
    "#find_yield(50)\n",
    "\n",
    "## Your code here up"
   ]
  },
  {
   "cell_type": "markdown",
   "metadata": {},
   "source": [
    "## Exercise 5: Crop Average"
   ]
  },
  {
   "cell_type": "markdown",
   "metadata": {},
   "source": [
    "Create a function that takes a list of crop yields (spring wheat) and returns the average yield. Keys: list, average() or arithmetic average."
   ]
  },
  {
   "cell_type": "code",
   "execution_count": 6,
   "metadata": {},
   "outputs": [],
   "source": [
    "## Your code here down\n",
    "def average_yield(list):\n",
    "    averaged_yield = sum(list)/len(list)\n",
    "    return averaged_yield\n",
    "\n",
    "## Testing passed\n",
    "#average_yield([1,1,1,1])\n",
    "\n",
    "## Your code here up"
   ]
  },
  {
   "cell_type": "markdown",
   "metadata": {},
   "source": [
    "# Assignment 2"
   ]
  },
  {
   "cell_type": "markdown",
   "metadata": {},
   "source": [
    "## Exercise 6: Crop Recommendation"
   ]
  },
  {
   "cell_type": "markdown",
   "metadata": {},
   "source": [
    "Create a function that takes the type of soil (brown, dark brown, black) as a parameter and returns a recommended crop (lentil, canola, oats) for that soil type. Keys: dict"
   ]
  },
  {
   "cell_type": "code",
   "execution_count": 7,
   "metadata": {},
   "outputs": [],
   "source": [
    "## Your code here down\n",
    "def recommend_crop(soil_type):\n",
    "    dict = {'brown': 'lentil', 'dark brown': 'canola', 'black': 'oats'}\n",
    "    return dict[soil_type]\n",
    "\n",
    "## Testing passed\n",
    "#recommend_crop('brown')\n",
    "\n",
    "## Your code here up"
   ]
  },
  {
   "cell_type": "markdown",
   "metadata": {},
   "source": [
    "## Exercise 7: Crop Rotation"
   ]
  },
  {
   "cell_type": "markdown",
   "metadata": {},
   "source": [
    "Create a function that takes a list of crop names (lentil, barly, canola, spring wheat, durum wheat, oats) and rotates the crops by moving the last crop to the beginning of the list. Keys: list and list index"
   ]
  },
  {
   "cell_type": "code",
   "execution_count": 8,
   "metadata": {},
   "outputs": [],
   "source": [
    "## Your code here down\n",
    "def rotate_crops(list):\n",
    "    rotated_list = []\n",
    "    for i in range(-1,len(list)-1):\n",
    "        rotated_list.append(list[i])\n",
    "    return rotated_list\n",
    "\n",
    "## Testing passed\n",
    "#rotate_crops(['lentil', 'barly', 'canola', 'spring wheat', 'durum wheat', 'oats'])\n",
    "\n",
    "## Your code here up"
   ]
  },
  {
   "cell_type": "markdown",
   "metadata": {},
   "source": [
    "# Exercise 8: Rainfall Analysis"
   ]
  },
  {
   "cell_type": "markdown",
   "metadata": {},
   "source": [
    "Create a function that takes a list of rainfall measurements (daily mm in a week) and returns the maximum and minimum rainfall values. Keys: min(), max(), lists"
   ]
  },
  {
   "cell_type": "code",
   "execution_count": 9,
   "metadata": {},
   "outputs": [],
   "source": [
    "## Your code here down\n",
    "def find_rainfall_range(list):\n",
    "    (minimum, maximum) = (min(list), max(list))\n",
    "    print(f'The minimum and maximum rainfall measurements are {minimum} mm and {maximum} mm, respectively.')\n",
    "\n",
    "## Testing passed\n",
    "#find_rainfall_range([0,5,19])\n",
    "\n",
    "## Your code here up"
   ]
  },
  {
   "cell_type": "markdown",
   "metadata": {},
   "source": [
    "## Exercise 9: Pest Control"
   ]
  },
  {
   "cell_type": "markdown",
   "metadata": {},
   "source": [
    "Create a function that takes the count of pests detected in a field and returns a recommendation for pest control based on the count. Please search for pests and pest control measures. Keys: if-else statement"
   ]
  },
  {
   "cell_type": "code",
   "execution_count": 10,
   "metadata": {},
   "outputs": [],
   "source": [
    "## Your code here down\n",
    "## The action threshold varies with the pest-crop combination, and the stage of growth of the crop.\n",
    "## Narrowed to grasshopper and general pest control threshold and measures. Data obtained from Govement of Manitoba. \n",
    "## https://www.gov.mb.ca/agriculture/crops/insects/pubs/grasshoppers-factsheet-revised-november2022.pdf (page 6).\n",
    "\n",
    "def recommend_pest_control(count, field_sq_meter=1, attention_threshold=7, action_threshold=13):\n",
    "    if count/field_sq_meter >= action_threshold:\n",
    "        print('Immediate pest control for grasshopper must be applied to avoid significant losses.')\n",
    "    elif count/field_sq_meter >= attention_threshold:\n",
    "        print('Attention, pest control for grasshopper may be required to avoid losses.')\n",
    "    else:\n",
    "        print('Pest control for grasshopper is not usually required at this moment. Keep monitoring.')\n",
    "\n",
    "## Testing passed\n",
    "#recommend_pest_control(3)\n",
    "\n",
    "## Your code here up"
   ]
  },
  {
   "cell_type": "markdown",
   "metadata": {},
   "source": [
    "## Exercise 10: Weed Control"
   ]
  },
  {
   "cell_type": "markdown",
   "metadata": {},
   "source": [
    "Create a function that takes a list of weed names and suggests appropriate herbicides for weed control. Keys: For Loops and dictionary."
   ]
  },
  {
   "cell_type": "code",
   "execution_count": 11,
   "metadata": {},
   "outputs": [],
   "source": [
    "## Your code here down\n",
    "## Narrowed down to top 10 common weeds in Alberta for the dictionary\n",
    "## Dictionary data obtained from ChatGPT 3.5\n",
    "\n",
    "def suggest_herbicides(weed_list):\n",
    "    dict = {\n",
    "        'Canada Thistle': 'Glyphosate',\n",
    "        'Wild Oats': 'Axial',\n",
    "        'Kochia': 'Glyphosate',\n",
    "        'Green Foxtail': 'Clethodim',\n",
    "        'Wild Mustard': '2,4-D',\n",
    "        'Canada Fleabane': 'Glyphosate',\n",
    "        'Russian Knapweed': 'Tordon',\n",
    "        'Leafy Spurge': 'Tordon',\n",
    "        'Cleavers': 'MCPA',\n",
    "        'Downy Brome': 'Imazapic'\n",
    "    }\n",
    "    \n",
    "    herbicides_suggested = set()\n",
    "    for weed in weed_list:\n",
    "        herbicides_suggested.add(dict[weed])\n",
    "    print(f'Recommended herbicides are: {herbicides_suggested}.')\n",
    "\n",
    "## Testing passed\n",
    "#suggest_herbicides(['Canada Thistle', 'Wild Oats', 'Kochia'])\n",
    "\n",
    "## Your code here up"
   ]
  }
 ],
 "metadata": {
  "kernelspec": {
   "display_name": "Python 3 (ipykernel)",
   "language": "python",
   "name": "python3"
  },
  "language_info": {
   "codemirror_mode": {
    "name": "ipython",
    "version": 3
   },
   "file_extension": ".py",
   "mimetype": "text/x-python",
   "name": "python",
   "nbconvert_exporter": "python",
   "pygments_lexer": "ipython3",
   "version": "3.11.3"
  }
 },
 "nbformat": 4,
 "nbformat_minor": 2
}
