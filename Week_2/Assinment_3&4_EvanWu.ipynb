{
 "cells": [
  {
   "cell_type": "markdown",
   "metadata": {},
   "source": [
    "# Assignment 3"
   ]
  },
  {
   "cell_type": "markdown",
   "metadata": {},
   "source": [
    "**Please follow the instructions. Do not add new cell! Write your code in designated areas.**"
   ]
  },
  {
   "cell_type": "code",
   "execution_count": 1,
   "metadata": {},
   "outputs": [
    {
     "name": "stdout",
     "output_type": "stream",
     "text": [
      "Assignment 3 & 4: Solutions by Evan Wu\n",
      "Local Time: 2023-09-25 15:02:53\n",
      "Computer ID: LAPTOP-VG65MID3\n"
     ]
    }
   ],
   "source": [
    "import datetime\n",
    "import socket\n",
    "\n",
    "# Get local time\n",
    "local_time = datetime.datetime.now().strftime(\"%Y-%m-%d %H:%M:%S\")\n",
    "\n",
    "# Get computer ID or hostname\n",
    "computer_id = socket.gethostname()\n",
    "\n",
    "# Print output with local time and computer ID\n",
    "print('Assignment 3 & 4: Solutions by Evan Wu') # Please change your name here\n",
    "print('Local Time:', local_time)\n",
    "print('Computer ID:', computer_id)"
   ]
  },
  {
   "cell_type": "markdown",
   "metadata": {},
   "source": [
    "## NumPy"
   ]
  },
  {
   "cell_type": "code",
   "execution_count": 2,
   "metadata": {},
   "outputs": [],
   "source": [
    "import numpy as np"
   ]
  },
  {
   "cell_type": "markdown",
   "metadata": {},
   "source": [
    "1. Create a 2D numpy array of size 4x5 with random integers between 1 and 10. Find the maximum value of the entire array. \n"
   ]
  },
  {
   "cell_type": "code",
   "execution_count": 3,
   "metadata": {},
   "outputs": [
    {
     "name": "stdout",
     "output_type": "stream",
     "text": [
      "Created a 2D numpy array with random integers between 1 and 10:\n",
      "[[ 9  2  6 10  2]\n",
      " [ 6 10  7  9  9]\n",
      " [10  2  7  4  4]\n",
      " [ 6  5  5 10  3]]\n",
      "The maximum value of the entire array is 10.\n"
     ]
    }
   ],
   "source": [
    "## Your code here down\n",
    "\n",
    "arr_1 = np.random.randint(1,11,size=(4,5))\n",
    "print('Created a 2D numpy array with random integers between 1 and 10:')\n",
    "print(arr_1)\n",
    "\n",
    "print(f'The maximum value of the entire array is {np.max(arr_1)}.')\n",
    "\n",
    "## Your code here up"
   ]
  },
  {
   "cell_type": "markdown",
   "metadata": {},
   "source": [
    "2. Create a 1D numpy array of size 20 with random floats between 0 and 1. Reshape the array into a 4x5 matrix. Compute the mean of each row."
   ]
  },
  {
   "cell_type": "code",
   "execution_count": 4,
   "metadata": {},
   "outputs": [
    {
     "name": "stdout",
     "output_type": "stream",
     "text": [
      "Created a 1D numpy arrow with 20 random floats between 0 and 1:\n",
      "[0.56692776 0.93045193 0.32017736 0.84396597 0.87198383 0.60730819\n",
      " 0.27382348 0.44952972 0.735795   0.03703768 0.18890689 0.03329953\n",
      " 0.0808521  0.54919917 0.66774425 0.28592423 0.27285528 0.20810621\n",
      " 0.43619516 0.03423043]\n",
      "Reshaped into a 4x5 matrix:\n",
      "[[0.56692776 0.93045193 0.32017736 0.84396597 0.87198383]\n",
      " [0.60730819 0.27382348 0.44952972 0.735795   0.03703768]\n",
      " [0.18890689 0.03329953 0.0808521  0.54919917 0.66774425]\n",
      " [0.28592423 0.27285528 0.20810621 0.43619516 0.03423043]]\n",
      "The mean of each row:\n",
      "[0.70670137 0.42069881 0.30400039 0.24746226]\n"
     ]
    }
   ],
   "source": [
    "## Your code here down\n",
    "\n",
    "print('Created a 1D numpy arrow with 20 random floats between 0 and 1:')\n",
    "arr_2 = np.random.ranf(size=20)\n",
    "print(arr_2)\n",
    "\n",
    "print('Reshaped into a 4x5 matrix:')\n",
    "reshaped_arr_2 = arr_2.reshape(4,5)\n",
    "print(reshaped_arr_2)\n",
    "\n",
    "print('The mean of each row:')\n",
    "print(np.mean(reshaped_arr_2,axis=1))\n",
    "\n",
    "## Your code here up"
   ]
  },
  {
   "cell_type": "markdown",
   "metadata": {},
   "source": [
    "3. Create a 2D numpy array of size 5x5 with random integers between 1 and 100. Compute standard deviation of each column."
   ]
  },
  {
   "cell_type": "code",
   "execution_count": 5,
   "metadata": {},
   "outputs": [
    {
     "name": "stdout",
     "output_type": "stream",
     "text": [
      "Created a 2D numpy array of size 5x5 with random integers between 1 and 100:\n",
      "[[43 99 77 64 39]\n",
      " [15 50  5 42 31]\n",
      " [82 36 49 36 66]\n",
      " [57  1 37 76 64]\n",
      " [53  3 26 93 62]]\n",
      "Standard deviation of each column is:\n",
      "[21.70714168 35.95219048 23.96998123 21.15088651 14.48585517]\n"
     ]
    }
   ],
   "source": [
    "## Your code here down\n",
    "\n",
    "print('Created a 2D numpy array of size 5x5 with random integers between 1 and 100:')\n",
    "arr_3 = np.random.randint(1,101,size=(5,5))\n",
    "print(arr_3)\n",
    "\n",
    "print('Standard deviation of each column is:')\n",
    "print(np.std(arr_3,axis=0))\n",
    "\n",
    "## Your code here up"
   ]
  },
  {
   "cell_type": "markdown",
   "metadata": {},
   "source": [
    "4. Create a 1D numpy array of size 15 with random floats between -10 and 10. Replace all negative values with their absolute values."
   ]
  },
  {
   "cell_type": "code",
   "execution_count": 6,
   "metadata": {},
   "outputs": [
    {
     "name": "stdout",
     "output_type": "stream",
     "text": [
      "Created a 1D numpy array of size 15 with random floats between -10 and 10:\n",
      "[-4.14538551 -2.40876654  3.19322397  7.85000898  5.48693204 -7.0895144\n",
      "  3.397991    5.71929726 -9.16877317 -6.8726624  -3.21941122  5.8116724\n",
      "  1.39586162 -7.93084427  3.43627397]\n",
      "Replace all negative values with their absolute values:\n",
      "[4.14538551 2.40876654 3.19322397 7.85000898 5.48693204 7.0895144\n",
      " 3.397991   5.71929726 9.16877317 6.8726624  3.21941122 5.8116724\n",
      " 1.39586162 7.93084427 3.43627397]\n"
     ]
    }
   ],
   "source": [
    "## Your code here down\n",
    "\n",
    "print('Created a 1D numpy array of size 15 with random floats between -10 and 10:')\n",
    "arr_4 = 20*(np.random.ranf(size=15)-0.5)\n",
    "print(arr_4)\n",
    "\n",
    "print('Replace all negative values with their absolute values:')\n",
    "arr_4_absolute = np.absolute(arr_4)\n",
    "print(arr_4_absolute)\n",
    "\n",
    "## Your code here up"
   ]
  },
  {
   "cell_type": "markdown",
   "metadata": {},
   "source": [
    "5. Create a 2D numpy array of size 3x4 with random integers between 1 and 100. Calculate the sum of all elements in the array."
   ]
  },
  {
   "cell_type": "code",
   "execution_count": 7,
   "metadata": {},
   "outputs": [
    {
     "name": "stdout",
     "output_type": "stream",
     "text": [
      "Created a 2D numpy array of size 3x4 with random integers between 1 and 100:\n",
      "[[26 15 87 27]\n",
      " [ 2 81 15 52]\n",
      " [68  4 80 63]]\n",
      "The sum of all elements in the array is: 520\n"
     ]
    }
   ],
   "source": [
    "## Your code here down\n",
    "\n",
    "print('Created a 2D numpy array of size 3x4 with random integers between 1 and 100:')\n",
    "arr_5 = np.random.randint(1,101,size=(3,4))\n",
    "print(arr_5)\n",
    "\n",
    "print(f'The sum of all elements in the array is: {np.sum(arr_5)}')\n",
    "\n",
    "## Your code here up"
   ]
  },
  {
   "cell_type": "markdown",
   "metadata": {},
   "source": [
    "7. Create a 2D numpy array of size 4x6 with random floats between 0 and 1. Normalize each column by subtracting the column mean and dividing by the column standard deviation."
   ]
  },
  {
   "cell_type": "code",
   "execution_count": 8,
   "metadata": {},
   "outputs": [
    {
     "name": "stdout",
     "output_type": "stream",
     "text": [
      "Created a 2D numpy array of size 4x6 with random floats between 0 and 1:\n",
      "[[0.18268917 0.28983557 0.41971873 0.14077202 0.53175889 0.60195333]\n",
      " [0.32377952 0.67471353 0.9783564  0.78936209 0.57836752 0.66270383]\n",
      " [0.40246476 0.2785677  0.0140702  0.57428315 0.79089983 0.18111421]\n",
      " [0.36766472 0.72253936 0.64119743 0.74361438 0.81047993 0.54914507]]\n",
      "Normalized each column:\n",
      "[[-1.63282166 -0.96941003 -0.26730713 -1.64508502 -1.17735082  0.54986691]\n",
      " [ 0.05540018  0.88150468  1.3277867   0.88790383 -0.8017993   0.87347982]\n",
      " [ 0.99691134 -1.02359826 -1.4255668   0.04793943  0.91069119 -1.6919084 ]\n",
      " [ 0.58051014  1.11150361  0.36508722  0.70924176  1.06845893  0.26856167]]\n"
     ]
    }
   ],
   "source": [
    "## Your code here down\n",
    "\n",
    "print('Created a 2D numpy array of size 4x6 with random floats between 0 and 1:')\n",
    "arr_7 = np.random.ranf(size=(4,6))\n",
    "print(arr_7)\n",
    "\n",
    "print('Normalized each column:')\n",
    "arr_7_normalized = (arr_7 - np.mean(arr_7,axis=0))/ np.std(arr_7,axis=0)\n",
    "print(arr_7_normalized)\n",
    "\n",
    "## Your code here up"
   ]
  },
  {
   "cell_type": "markdown",
   "metadata": {},
   "source": [
    "8. Create a 2D numpy array of size 10x10 with random integers between 1 and 100. Replace all values greater than 50 with 1 and all other values with 0."
   ]
  },
  {
   "cell_type": "code",
   "execution_count": 9,
   "metadata": {},
   "outputs": [
    {
     "name": "stdout",
     "output_type": "stream",
     "text": [
      "Created a 2D numpy array of size 10x10 with random integers between 1 and 100:\n",
      "[[ 19  44  76  26  46  50   4  60   2  66]\n",
      " [ 31  74  94  68  39 100  62  32   5  98]\n",
      " [ 23  65   7   2  24  81  82  75  31  66]\n",
      " [ 85  16  54  32  78  84  12  80  55  57]\n",
      " [ 51  96  24  48  89  74   7  16  27  32]\n",
      " [ 12  90  75  40  96  59  25  89  33  66]\n",
      " [ 24  70  26  37  66  85  16   6  43  86]\n",
      " [ 83  74  90  97  32  35  88  39  81  81]\n",
      " [ 74  57  85  60  66  15  18   2  48  76]\n",
      " [ 91 100  22  10  81  52  68   8 100  21]]\n",
      "Replaced all values greater than 50 with 1 and all other values with 0:\n",
      "[[0 0 1 0 0 0 0 1 0 1]\n",
      " [0 1 1 1 0 1 1 0 0 1]\n",
      " [0 1 0 0 0 1 1 1 0 1]\n",
      " [1 0 1 0 1 1 0 1 1 1]\n",
      " [1 1 0 0 1 1 0 0 0 0]\n",
      " [0 1 1 0 1 1 0 1 0 1]\n",
      " [0 1 0 0 1 1 0 0 0 1]\n",
      " [1 1 1 1 0 0 1 0 1 1]\n",
      " [1 1 1 1 1 0 0 0 0 1]\n",
      " [1 1 0 0 1 1 1 0 1 0]]\n"
     ]
    }
   ],
   "source": [
    "## Your code here down\n",
    "\n",
    "print('Created a 2D numpy array of size 10x10 with random integers between 1 and 100:')\n",
    "arr_8 = np.random.randint(1,101,size=(10,10))\n",
    "print(arr_8)\n",
    "\n",
    "mask_8 = arr_8 >50\n",
    "mask_8 = mask_8.astype(int)\n",
    "print('Replaced all values greater than 50 with 1 and all other values with 0:')\n",
    "print(mask_8)\n",
    "## Your code here up"
   ]
  },
  {
   "cell_type": "markdown",
   "metadata": {},
   "source": [
    "9. Create a 1D numpy array of size 50 with random floats between 0 and 1. Find the number of elements greater than 0.5."
   ]
  },
  {
   "cell_type": "code",
   "execution_count": 10,
   "metadata": {},
   "outputs": [
    {
     "name": "stdout",
     "output_type": "stream",
     "text": [
      "Created a 1D numpy array of size 50 with random floats between 0 and 1:\n",
      "[0.83160588 0.24581462 0.75501952 0.00235584 0.65942381 0.86176159\n",
      " 0.52984472 0.23840814 0.51466367 0.11768399 0.67453265 0.88943919\n",
      " 0.73065098 0.02553251 0.46641803 0.55159822 0.87471731 0.00125862\n",
      " 0.31492719 0.00863495 0.10220405 0.31144497 0.39379662 0.09684284\n",
      " 0.58722615 0.84294116 0.8796156  0.39902688 0.6196067  0.63486044\n",
      " 0.92003912 0.73503698 0.30462277 0.69995202 0.05887615 0.83538722\n",
      " 0.39352403 0.75675941 0.09391186 0.00617933 0.21541952 0.72154728\n",
      " 0.01106185 0.29529116 0.49621928 0.49600376 0.38961622 0.73853806\n",
      " 0.14089753 0.57095023]\n",
      "The number of elements greater than 0.5 is:24\n"
     ]
    }
   ],
   "source": [
    "## Your code here down\n",
    "\n",
    "print('Created a 1D numpy array of size 50 with random floats between 0 and 1:')\n",
    "arr_9 = np.random.ranf(size=50)\n",
    "print(arr_9)\n",
    "\n",
    "print(f'The number of elements greater than 0.5 is:{np.sum(arr_9>0.5)}')\n",
    "\n",
    "## Your code here up"
   ]
  },
  {
   "cell_type": "markdown",
   "metadata": {},
   "source": [
    "10. Create a 2D numpy array of size 5x5 with random floats between -1 and 1. Find the absolute difference between the maximum and minimum values in each row."
   ]
  },
  {
   "cell_type": "code",
   "execution_count": 11,
   "metadata": {},
   "outputs": [
    {
     "name": "stdout",
     "output_type": "stream",
     "text": [
      "Created a 2D numpy array of size 5x5 with random floats between -1 and 1:\n",
      "[[ 0.56959129  0.28104564  0.06716772  0.18639376  0.10010118]\n",
      " [ 0.17349142 -0.02721725 -0.1175481   0.39874569 -0.667781  ]\n",
      " [-0.35840549 -0.10205058  0.29923286  0.76929117  0.14349428]\n",
      " [-0.57266526 -0.8743937  -0.07109745  0.01068052  0.98834291]\n",
      " [ 0.08397555  0.76076734  0.22295149  0.81433394  0.11483119]]\n",
      "The absolute difference between the maximum and minimum values in each row is:\n",
      "[0.50242357 1.06652669 1.12769666 1.86273661 0.73035838]\n"
     ]
    }
   ],
   "source": [
    "## Your code here down\n",
    "\n",
    "print('Created a 2D numpy array of size 5x5 with random floats between -1 and 1:')\n",
    "arr_10 = (np.random.ranf(size=(5,5))-0.5)*2\n",
    "print(arr_10)\n",
    "\n",
    "diff_10 = np.max(arr_10,axis=1) - np.min(arr_10,axis=1)\n",
    "print('The absolute difference between the maximum and minimum values in each row is:')\n",
    "print(diff_10)\n",
    "\n",
    "## Your code here up"
   ]
  },
  {
   "cell_type": "markdown",
   "metadata": {},
   "source": [
    "## Pandas"
   ]
  },
  {
   "cell_type": "markdown",
   "metadata": {},
   "source": [
    "Please refer the dataframe (farm data) we have created in the training. Please copy that cell and paste it below before starting this part. "
   ]
  },
  {
   "cell_type": "code",
   "execution_count": 12,
   "metadata": {},
   "outputs": [],
   "source": [
    "import random\n",
    "import pandas as pd\n",
    "\n",
    "# Define the range for longitude and latitude\n",
    "lon_range = (-105, -100)\n",
    "lat_range = (50, 52)\n",
    "\n",
    "# Define the list of soil types\n",
    "soil_types = ['black', 'gray', 'dark brown', 'brown', None]\n",
    "\n",
    "# Create an empty list to store the farms\n",
    "farms = []\n",
    "\n",
    "# Generate 40 farms\n",
    "for i in range(200):\n",
    "    farm = {\n",
    "        'farm_name': f'Farm {i+1}', # f is formated string\n",
    "        'farm_lon': round(random.uniform(lon_range[0], lon_range[1]), 2), # random lon with 2 decimal points\n",
    "        'farm_lat': round(random.uniform(lat_range[0], lat_range[1]), 2), # rantom lat with 2 decimal points\n",
    "        'temperature': round(random.uniform(18, 33), 1), #random temp with 1 decimal points\n",
    "        'precipitation': round(random.uniform(20, 90), 1), # random prec with 1 decimal points\n",
    "        'soil_type': random.choice(soil_types) # random soil types from above list\n",
    "    }\n",
    "    farms.append(farm)"
   ]
  },
  {
   "cell_type": "code",
   "execution_count": 13,
   "metadata": {},
   "outputs": [],
   "source": [
    "df = pd.DataFrame(farms) # your code here"
   ]
  },
  {
   "cell_type": "markdown",
   "metadata": {},
   "source": [
    "1. Select the rows where the temperature is above 20 degrees Celsius."
   ]
  },
  {
   "cell_type": "code",
   "execution_count": 14,
   "metadata": {},
   "outputs": [
    {
     "data": {
      "text/html": [
       "<div>\n",
       "<style scoped>\n",
       "    .dataframe tbody tr th:only-of-type {\n",
       "        vertical-align: middle;\n",
       "    }\n",
       "\n",
       "    .dataframe tbody tr th {\n",
       "        vertical-align: top;\n",
       "    }\n",
       "\n",
       "    .dataframe thead th {\n",
       "        text-align: right;\n",
       "    }\n",
       "</style>\n",
       "<table border=\"1\" class=\"dataframe\">\n",
       "  <thead>\n",
       "    <tr style=\"text-align: right;\">\n",
       "      <th></th>\n",
       "      <th>farm_name</th>\n",
       "      <th>farm_lon</th>\n",
       "      <th>farm_lat</th>\n",
       "      <th>temperature</th>\n",
       "      <th>precipitation</th>\n",
       "      <th>soil_type</th>\n",
       "    </tr>\n",
       "  </thead>\n",
       "  <tbody>\n",
       "    <tr>\n",
       "      <th>0</th>\n",
       "      <td>Farm 1</td>\n",
       "      <td>-104.31</td>\n",
       "      <td>51.05</td>\n",
       "      <td>24.7</td>\n",
       "      <td>83.8</td>\n",
       "      <td>None</td>\n",
       "    </tr>\n",
       "    <tr>\n",
       "      <th>1</th>\n",
       "      <td>Farm 2</td>\n",
       "      <td>-102.05</td>\n",
       "      <td>51.58</td>\n",
       "      <td>24.3</td>\n",
       "      <td>66.6</td>\n",
       "      <td>brown</td>\n",
       "    </tr>\n",
       "    <tr>\n",
       "      <th>2</th>\n",
       "      <td>Farm 3</td>\n",
       "      <td>-103.86</td>\n",
       "      <td>50.30</td>\n",
       "      <td>22.0</td>\n",
       "      <td>43.8</td>\n",
       "      <td>None</td>\n",
       "    </tr>\n",
       "    <tr>\n",
       "      <th>3</th>\n",
       "      <td>Farm 4</td>\n",
       "      <td>-100.16</td>\n",
       "      <td>51.28</td>\n",
       "      <td>32.0</td>\n",
       "      <td>81.3</td>\n",
       "      <td>gray</td>\n",
       "    </tr>\n",
       "    <tr>\n",
       "      <th>4</th>\n",
       "      <td>Farm 5</td>\n",
       "      <td>-101.73</td>\n",
       "      <td>51.38</td>\n",
       "      <td>26.5</td>\n",
       "      <td>60.3</td>\n",
       "      <td>black</td>\n",
       "    </tr>\n",
       "    <tr>\n",
       "      <th>...</th>\n",
       "      <td>...</td>\n",
       "      <td>...</td>\n",
       "      <td>...</td>\n",
       "      <td>...</td>\n",
       "      <td>...</td>\n",
       "      <td>...</td>\n",
       "    </tr>\n",
       "    <tr>\n",
       "      <th>194</th>\n",
       "      <td>Farm 195</td>\n",
       "      <td>-102.55</td>\n",
       "      <td>51.93</td>\n",
       "      <td>28.9</td>\n",
       "      <td>34.8</td>\n",
       "      <td>None</td>\n",
       "    </tr>\n",
       "    <tr>\n",
       "      <th>196</th>\n",
       "      <td>Farm 197</td>\n",
       "      <td>-102.95</td>\n",
       "      <td>51.95</td>\n",
       "      <td>29.5</td>\n",
       "      <td>52.5</td>\n",
       "      <td>black</td>\n",
       "    </tr>\n",
       "    <tr>\n",
       "      <th>197</th>\n",
       "      <td>Farm 198</td>\n",
       "      <td>-102.14</td>\n",
       "      <td>50.20</td>\n",
       "      <td>28.1</td>\n",
       "      <td>45.1</td>\n",
       "      <td>black</td>\n",
       "    </tr>\n",
       "    <tr>\n",
       "      <th>198</th>\n",
       "      <td>Farm 199</td>\n",
       "      <td>-102.12</td>\n",
       "      <td>50.12</td>\n",
       "      <td>30.2</td>\n",
       "      <td>36.1</td>\n",
       "      <td>brown</td>\n",
       "    </tr>\n",
       "    <tr>\n",
       "      <th>199</th>\n",
       "      <td>Farm 200</td>\n",
       "      <td>-100.93</td>\n",
       "      <td>51.67</td>\n",
       "      <td>25.2</td>\n",
       "      <td>86.7</td>\n",
       "      <td>brown</td>\n",
       "    </tr>\n",
       "  </tbody>\n",
       "</table>\n",
       "<p>168 rows × 6 columns</p>\n",
       "</div>"
      ],
      "text/plain": [
       "    farm_name  farm_lon  farm_lat  temperature  precipitation soil_type\n",
       "0      Farm 1   -104.31     51.05         24.7           83.8      None\n",
       "1      Farm 2   -102.05     51.58         24.3           66.6     brown\n",
       "2      Farm 3   -103.86     50.30         22.0           43.8      None\n",
       "3      Farm 4   -100.16     51.28         32.0           81.3      gray\n",
       "4      Farm 5   -101.73     51.38         26.5           60.3     black\n",
       "..        ...       ...       ...          ...            ...       ...\n",
       "194  Farm 195   -102.55     51.93         28.9           34.8      None\n",
       "196  Farm 197   -102.95     51.95         29.5           52.5     black\n",
       "197  Farm 198   -102.14     50.20         28.1           45.1     black\n",
       "198  Farm 199   -102.12     50.12         30.2           36.1     brown\n",
       "199  Farm 200   -100.93     51.67         25.2           86.7     brown\n",
       "\n",
       "[168 rows x 6 columns]"
      ]
     },
     "execution_count": 14,
     "metadata": {},
     "output_type": "execute_result"
    }
   ],
   "source": [
    "## Your code here down\n",
    "\n",
    "df[df['temperature']>20]\n",
    "\n",
    "## Your code here up"
   ]
  },
  {
   "cell_type": "markdown",
   "metadata": {},
   "source": [
    "2. Sort the DataFrame by precipitation in descending order."
   ]
  },
  {
   "cell_type": "code",
   "execution_count": 15,
   "metadata": {},
   "outputs": [
    {
     "data": {
      "text/html": [
       "<div>\n",
       "<style scoped>\n",
       "    .dataframe tbody tr th:only-of-type {\n",
       "        vertical-align: middle;\n",
       "    }\n",
       "\n",
       "    .dataframe tbody tr th {\n",
       "        vertical-align: top;\n",
       "    }\n",
       "\n",
       "    .dataframe thead th {\n",
       "        text-align: right;\n",
       "    }\n",
       "</style>\n",
       "<table border=\"1\" class=\"dataframe\">\n",
       "  <thead>\n",
       "    <tr style=\"text-align: right;\">\n",
       "      <th></th>\n",
       "      <th>farm_name</th>\n",
       "      <th>farm_lon</th>\n",
       "      <th>farm_lat</th>\n",
       "      <th>temperature</th>\n",
       "      <th>precipitation</th>\n",
       "      <th>soil_type</th>\n",
       "    </tr>\n",
       "  </thead>\n",
       "  <tbody>\n",
       "    <tr>\n",
       "      <th>166</th>\n",
       "      <td>Farm 167</td>\n",
       "      <td>-104.03</td>\n",
       "      <td>50.20</td>\n",
       "      <td>20.3</td>\n",
       "      <td>88.0</td>\n",
       "      <td>black</td>\n",
       "    </tr>\n",
       "    <tr>\n",
       "      <th>167</th>\n",
       "      <td>Farm 168</td>\n",
       "      <td>-100.45</td>\n",
       "      <td>51.87</td>\n",
       "      <td>32.1</td>\n",
       "      <td>87.9</td>\n",
       "      <td>gray</td>\n",
       "    </tr>\n",
       "    <tr>\n",
       "      <th>141</th>\n",
       "      <td>Farm 142</td>\n",
       "      <td>-102.43</td>\n",
       "      <td>51.54</td>\n",
       "      <td>26.5</td>\n",
       "      <td>87.8</td>\n",
       "      <td>None</td>\n",
       "    </tr>\n",
       "    <tr>\n",
       "      <th>108</th>\n",
       "      <td>Farm 109</td>\n",
       "      <td>-100.80</td>\n",
       "      <td>51.25</td>\n",
       "      <td>19.9</td>\n",
       "      <td>87.6</td>\n",
       "      <td>gray</td>\n",
       "    </tr>\n",
       "    <tr>\n",
       "      <th>8</th>\n",
       "      <td>Farm 9</td>\n",
       "      <td>-100.50</td>\n",
       "      <td>50.77</td>\n",
       "      <td>23.6</td>\n",
       "      <td>87.5</td>\n",
       "      <td>gray</td>\n",
       "    </tr>\n",
       "    <tr>\n",
       "      <th>...</th>\n",
       "      <td>...</td>\n",
       "      <td>...</td>\n",
       "      <td>...</td>\n",
       "      <td>...</td>\n",
       "      <td>...</td>\n",
       "      <td>...</td>\n",
       "    </tr>\n",
       "    <tr>\n",
       "      <th>6</th>\n",
       "      <td>Farm 7</td>\n",
       "      <td>-101.38</td>\n",
       "      <td>50.71</td>\n",
       "      <td>25.8</td>\n",
       "      <td>21.9</td>\n",
       "      <td>black</td>\n",
       "    </tr>\n",
       "    <tr>\n",
       "      <th>17</th>\n",
       "      <td>Farm 18</td>\n",
       "      <td>-104.86</td>\n",
       "      <td>50.97</td>\n",
       "      <td>28.6</td>\n",
       "      <td>21.7</td>\n",
       "      <td>gray</td>\n",
       "    </tr>\n",
       "    <tr>\n",
       "      <th>43</th>\n",
       "      <td>Farm 44</td>\n",
       "      <td>-101.56</td>\n",
       "      <td>50.22</td>\n",
       "      <td>25.9</td>\n",
       "      <td>21.3</td>\n",
       "      <td>dark brown</td>\n",
       "    </tr>\n",
       "    <tr>\n",
       "      <th>153</th>\n",
       "      <td>Farm 154</td>\n",
       "      <td>-100.40</td>\n",
       "      <td>50.21</td>\n",
       "      <td>21.3</td>\n",
       "      <td>20.2</td>\n",
       "      <td>dark brown</td>\n",
       "    </tr>\n",
       "    <tr>\n",
       "      <th>90</th>\n",
       "      <td>Farm 91</td>\n",
       "      <td>-103.07</td>\n",
       "      <td>51.17</td>\n",
       "      <td>25.5</td>\n",
       "      <td>20.1</td>\n",
       "      <td>black</td>\n",
       "    </tr>\n",
       "  </tbody>\n",
       "</table>\n",
       "<p>200 rows × 6 columns</p>\n",
       "</div>"
      ],
      "text/plain": [
       "    farm_name  farm_lon  farm_lat  temperature  precipitation   soil_type\n",
       "166  Farm 167   -104.03     50.20         20.3           88.0       black\n",
       "167  Farm 168   -100.45     51.87         32.1           87.9        gray\n",
       "141  Farm 142   -102.43     51.54         26.5           87.8        None\n",
       "108  Farm 109   -100.80     51.25         19.9           87.6        gray\n",
       "8      Farm 9   -100.50     50.77         23.6           87.5        gray\n",
       "..        ...       ...       ...          ...            ...         ...\n",
       "6      Farm 7   -101.38     50.71         25.8           21.9       black\n",
       "17    Farm 18   -104.86     50.97         28.6           21.7        gray\n",
       "43    Farm 44   -101.56     50.22         25.9           21.3  dark brown\n",
       "153  Farm 154   -100.40     50.21         21.3           20.2  dark brown\n",
       "90    Farm 91   -103.07     51.17         25.5           20.1       black\n",
       "\n",
       "[200 rows x 6 columns]"
      ]
     },
     "execution_count": 15,
     "metadata": {},
     "output_type": "execute_result"
    }
   ],
   "source": [
    "## Your code here down\n",
    "\n",
    "df.sort_values('precipitation',ascending=False)\n",
    "\n",
    "## Your code here up"
   ]
  },
  {
   "cell_type": "markdown",
   "metadata": {},
   "source": [
    "3. Filter the DataFrame to include only the farms located within latitude (51.15 & 51.00) range."
   ]
  },
  {
   "cell_type": "code",
   "execution_count": 16,
   "metadata": {},
   "outputs": [
    {
     "data": {
      "text/html": [
       "<div>\n",
       "<style scoped>\n",
       "    .dataframe tbody tr th:only-of-type {\n",
       "        vertical-align: middle;\n",
       "    }\n",
       "\n",
       "    .dataframe tbody tr th {\n",
       "        vertical-align: top;\n",
       "    }\n",
       "\n",
       "    .dataframe thead th {\n",
       "        text-align: right;\n",
       "    }\n",
       "</style>\n",
       "<table border=\"1\" class=\"dataframe\">\n",
       "  <thead>\n",
       "    <tr style=\"text-align: right;\">\n",
       "      <th></th>\n",
       "      <th>farm_name</th>\n",
       "      <th>farm_lon</th>\n",
       "      <th>farm_lat</th>\n",
       "      <th>temperature</th>\n",
       "      <th>precipitation</th>\n",
       "      <th>soil_type</th>\n",
       "    </tr>\n",
       "  </thead>\n",
       "  <tbody>\n",
       "    <tr>\n",
       "      <th>0</th>\n",
       "      <td>Farm 1</td>\n",
       "      <td>-104.31</td>\n",
       "      <td>51.05</td>\n",
       "      <td>24.7</td>\n",
       "      <td>83.8</td>\n",
       "      <td>None</td>\n",
       "    </tr>\n",
       "    <tr>\n",
       "      <th>20</th>\n",
       "      <td>Farm 21</td>\n",
       "      <td>-102.24</td>\n",
       "      <td>51.11</td>\n",
       "      <td>27.2</td>\n",
       "      <td>45.2</td>\n",
       "      <td>brown</td>\n",
       "    </tr>\n",
       "    <tr>\n",
       "      <th>34</th>\n",
       "      <td>Farm 35</td>\n",
       "      <td>-104.68</td>\n",
       "      <td>51.01</td>\n",
       "      <td>19.9</td>\n",
       "      <td>84.4</td>\n",
       "      <td>black</td>\n",
       "    </tr>\n",
       "    <tr>\n",
       "      <th>65</th>\n",
       "      <td>Farm 66</td>\n",
       "      <td>-101.35</td>\n",
       "      <td>51.14</td>\n",
       "      <td>32.6</td>\n",
       "      <td>69.1</td>\n",
       "      <td>gray</td>\n",
       "    </tr>\n",
       "    <tr>\n",
       "      <th>75</th>\n",
       "      <td>Farm 76</td>\n",
       "      <td>-102.66</td>\n",
       "      <td>51.13</td>\n",
       "      <td>26.5</td>\n",
       "      <td>69.9</td>\n",
       "      <td>dark brown</td>\n",
       "    </tr>\n",
       "    <tr>\n",
       "      <th>91</th>\n",
       "      <td>Farm 92</td>\n",
       "      <td>-102.14</td>\n",
       "      <td>51.07</td>\n",
       "      <td>19.3</td>\n",
       "      <td>30.1</td>\n",
       "      <td>dark brown</td>\n",
       "    </tr>\n",
       "    <tr>\n",
       "      <th>117</th>\n",
       "      <td>Farm 118</td>\n",
       "      <td>-100.21</td>\n",
       "      <td>51.08</td>\n",
       "      <td>27.5</td>\n",
       "      <td>62.2</td>\n",
       "      <td>dark brown</td>\n",
       "    </tr>\n",
       "    <tr>\n",
       "      <th>125</th>\n",
       "      <td>Farm 126</td>\n",
       "      <td>-101.50</td>\n",
       "      <td>51.13</td>\n",
       "      <td>22.6</td>\n",
       "      <td>61.4</td>\n",
       "      <td>black</td>\n",
       "    </tr>\n",
       "    <tr>\n",
       "      <th>127</th>\n",
       "      <td>Farm 128</td>\n",
       "      <td>-101.23</td>\n",
       "      <td>51.01</td>\n",
       "      <td>29.2</td>\n",
       "      <td>65.1</td>\n",
       "      <td>gray</td>\n",
       "    </tr>\n",
       "    <tr>\n",
       "      <th>156</th>\n",
       "      <td>Farm 157</td>\n",
       "      <td>-103.71</td>\n",
       "      <td>51.11</td>\n",
       "      <td>27.5</td>\n",
       "      <td>23.3</td>\n",
       "      <td>black</td>\n",
       "    </tr>\n",
       "    <tr>\n",
       "      <th>160</th>\n",
       "      <td>Farm 161</td>\n",
       "      <td>-103.00</td>\n",
       "      <td>51.06</td>\n",
       "      <td>26.7</td>\n",
       "      <td>69.1</td>\n",
       "      <td>gray</td>\n",
       "    </tr>\n",
       "    <tr>\n",
       "      <th>165</th>\n",
       "      <td>Farm 166</td>\n",
       "      <td>-102.67</td>\n",
       "      <td>51.14</td>\n",
       "      <td>24.2</td>\n",
       "      <td>45.2</td>\n",
       "      <td>brown</td>\n",
       "    </tr>\n",
       "    <tr>\n",
       "      <th>175</th>\n",
       "      <td>Farm 176</td>\n",
       "      <td>-104.05</td>\n",
       "      <td>51.01</td>\n",
       "      <td>18.1</td>\n",
       "      <td>79.5</td>\n",
       "      <td>black</td>\n",
       "    </tr>\n",
       "  </tbody>\n",
       "</table>\n",
       "</div>"
      ],
      "text/plain": [
       "    farm_name  farm_lon  farm_lat  temperature  precipitation   soil_type\n",
       "0      Farm 1   -104.31     51.05         24.7           83.8        None\n",
       "20    Farm 21   -102.24     51.11         27.2           45.2       brown\n",
       "34    Farm 35   -104.68     51.01         19.9           84.4       black\n",
       "65    Farm 66   -101.35     51.14         32.6           69.1        gray\n",
       "75    Farm 76   -102.66     51.13         26.5           69.9  dark brown\n",
       "91    Farm 92   -102.14     51.07         19.3           30.1  dark brown\n",
       "117  Farm 118   -100.21     51.08         27.5           62.2  dark brown\n",
       "125  Farm 126   -101.50     51.13         22.6           61.4       black\n",
       "127  Farm 128   -101.23     51.01         29.2           65.1        gray\n",
       "156  Farm 157   -103.71     51.11         27.5           23.3       black\n",
       "160  Farm 161   -103.00     51.06         26.7           69.1        gray\n",
       "165  Farm 166   -102.67     51.14         24.2           45.2       brown\n",
       "175  Farm 176   -104.05     51.01         18.1           79.5       black"
      ]
     },
     "execution_count": 16,
     "metadata": {},
     "output_type": "execute_result"
    }
   ],
   "source": [
    "## Your code here down\n",
    "\n",
    "mask = (df['farm_lat'] > 51.00) * (df['farm_lat'] <51.15)\n",
    "df[mask]\n",
    "\n",
    "## Your code here up"
   ]
  },
  {
   "cell_type": "markdown",
   "metadata": {},
   "source": [
    " 4. Calculate the standard deviation of precipitation for each soil type."
   ]
  },
  {
   "cell_type": "code",
   "execution_count": 17,
   "metadata": {},
   "outputs": [
    {
     "data": {
      "text/plain": [
       "soil_type\n",
       "black         20.333842\n",
       "brown         19.436509\n",
       "dark brown    21.027636\n",
       "gray          21.718778\n",
       "Name: precipitation, dtype: float64"
      ]
     },
     "execution_count": 17,
     "metadata": {},
     "output_type": "execute_result"
    }
   ],
   "source": [
    "## Your code here down\n",
    "\n",
    "df.groupby('soil_type')['precipitation'].std()\n",
    "\n",
    "## Your code here up"
   ]
  },
  {
   "cell_type": "markdown",
   "metadata": {},
   "source": [
    "5. Calculate the cumulative sum of precipitation for each soil type."
   ]
  },
  {
   "cell_type": "code",
   "execution_count": 18,
   "metadata": {},
   "outputs": [
    {
     "data": {
      "text/plain": [
       "soil_type\n",
       "black         2632.9\n",
       "brown         1859.9\n",
       "dark brown    2007.2\n",
       "gray          2113.5\n",
       "Name: precipitation, dtype: float64"
      ]
     },
     "execution_count": 18,
     "metadata": {},
     "output_type": "execute_result"
    }
   ],
   "source": [
    "## Your code here down\n",
    "\n",
    "df.groupby(['soil_type'])['precipitation'].sum()\n",
    "\n",
    "## Your code here up"
   ]
  },
  {
   "cell_type": "markdown",
   "metadata": {},
   "source": [
    "6. Determine the top 3 farms with the highest temperature."
   ]
  },
  {
   "cell_type": "code",
   "execution_count": 19,
   "metadata": {},
   "outputs": [
    {
     "data": {
      "text/html": [
       "<div>\n",
       "<style scoped>\n",
       "    .dataframe tbody tr th:only-of-type {\n",
       "        vertical-align: middle;\n",
       "    }\n",
       "\n",
       "    .dataframe tbody tr th {\n",
       "        vertical-align: top;\n",
       "    }\n",
       "\n",
       "    .dataframe thead th {\n",
       "        text-align: right;\n",
       "    }\n",
       "</style>\n",
       "<table border=\"1\" class=\"dataframe\">\n",
       "  <thead>\n",
       "    <tr style=\"text-align: right;\">\n",
       "      <th></th>\n",
       "      <th>farm_name</th>\n",
       "      <th>farm_lon</th>\n",
       "      <th>farm_lat</th>\n",
       "      <th>temperature</th>\n",
       "      <th>precipitation</th>\n",
       "      <th>soil_type</th>\n",
       "    </tr>\n",
       "  </thead>\n",
       "  <tbody>\n",
       "    <tr>\n",
       "      <th>5</th>\n",
       "      <td>Farm 6</td>\n",
       "      <td>-103.32</td>\n",
       "      <td>50.06</td>\n",
       "      <td>33.0</td>\n",
       "      <td>39.9</td>\n",
       "      <td>dark brown</td>\n",
       "    </tr>\n",
       "    <tr>\n",
       "      <th>128</th>\n",
       "      <td>Farm 129</td>\n",
       "      <td>-101.70</td>\n",
       "      <td>50.52</td>\n",
       "      <td>33.0</td>\n",
       "      <td>85.9</td>\n",
       "      <td>brown</td>\n",
       "    </tr>\n",
       "    <tr>\n",
       "      <th>93</th>\n",
       "      <td>Farm 94</td>\n",
       "      <td>-103.77</td>\n",
       "      <td>51.57</td>\n",
       "      <td>32.9</td>\n",
       "      <td>79.3</td>\n",
       "      <td>None</td>\n",
       "    </tr>\n",
       "  </tbody>\n",
       "</table>\n",
       "</div>"
      ],
      "text/plain": [
       "    farm_name  farm_lon  farm_lat  temperature  precipitation   soil_type\n",
       "5      Farm 6   -103.32     50.06         33.0           39.9  dark brown\n",
       "128  Farm 129   -101.70     50.52         33.0           85.9       brown\n",
       "93    Farm 94   -103.77     51.57         32.9           79.3        None"
      ]
     },
     "execution_count": 19,
     "metadata": {},
     "output_type": "execute_result"
    }
   ],
   "source": [
    "## Your code here down\n",
    "\n",
    "df.sort_values('temperature',ascending=False).head(3)\n",
    "\n",
    "## Your code here up"
   ]
  },
  {
   "cell_type": "markdown",
   "metadata": {},
   "source": [
    "7. Find farms in each soil type that have the highest temperature."
   ]
  },
  {
   "cell_type": "code",
   "execution_count": 20,
   "metadata": {},
   "outputs": [
    {
     "data": {
      "text/plain": [
       "soil_type\n",
       "black         Farm 117\n",
       "brown         Farm 129\n",
       "dark brown      Farm 6\n",
       "gray           Farm 67\n",
       "Name: temperature, dtype: object"
      ]
     },
     "execution_count": 20,
     "metadata": {},
     "output_type": "execute_result"
    }
   ],
   "source": [
    "## Your code here down\n",
    "\n",
    "df.set_index('farm_name').groupby('soil_type')['temperature'].idxmax()\n",
    "\n",
    "## Your code here up"
   ]
  },
  {
   "cell_type": "markdown",
   "metadata": {},
   "source": [
    "8. Create new column 'percentage_tot_prec' and add the percentage contribution of each farm's precipitation (relative to total precipitation) to the column."
   ]
  },
  {
   "cell_type": "code",
   "execution_count": 21,
   "metadata": {},
   "outputs": [
    {
     "data": {
      "text/html": [
       "<div>\n",
       "<style scoped>\n",
       "    .dataframe tbody tr th:only-of-type {\n",
       "        vertical-align: middle;\n",
       "    }\n",
       "\n",
       "    .dataframe tbody tr th {\n",
       "        vertical-align: top;\n",
       "    }\n",
       "\n",
       "    .dataframe thead th {\n",
       "        text-align: right;\n",
       "    }\n",
       "</style>\n",
       "<table border=\"1\" class=\"dataframe\">\n",
       "  <thead>\n",
       "    <tr style=\"text-align: right;\">\n",
       "      <th></th>\n",
       "      <th>farm_name</th>\n",
       "      <th>farm_lon</th>\n",
       "      <th>farm_lat</th>\n",
       "      <th>temperature</th>\n",
       "      <th>precipitation</th>\n",
       "      <th>soil_type</th>\n",
       "      <th>precentage_tot_prec</th>\n",
       "    </tr>\n",
       "  </thead>\n",
       "  <tbody>\n",
       "    <tr>\n",
       "      <th>0</th>\n",
       "      <td>Farm 1</td>\n",
       "      <td>-104.31</td>\n",
       "      <td>51.05</td>\n",
       "      <td>24.7</td>\n",
       "      <td>83.8</td>\n",
       "      <td>None</td>\n",
       "      <td>0.779448</td>\n",
       "    </tr>\n",
       "    <tr>\n",
       "      <th>1</th>\n",
       "      <td>Farm 2</td>\n",
       "      <td>-102.05</td>\n",
       "      <td>51.58</td>\n",
       "      <td>24.3</td>\n",
       "      <td>66.6</td>\n",
       "      <td>brown</td>\n",
       "      <td>0.619466</td>\n",
       "    </tr>\n",
       "    <tr>\n",
       "      <th>2</th>\n",
       "      <td>Farm 3</td>\n",
       "      <td>-103.86</td>\n",
       "      <td>50.30</td>\n",
       "      <td>22.0</td>\n",
       "      <td>43.8</td>\n",
       "      <td>None</td>\n",
       "      <td>0.407396</td>\n",
       "    </tr>\n",
       "    <tr>\n",
       "      <th>3</th>\n",
       "      <td>Farm 4</td>\n",
       "      <td>-100.16</td>\n",
       "      <td>51.28</td>\n",
       "      <td>32.0</td>\n",
       "      <td>81.3</td>\n",
       "      <td>gray</td>\n",
       "      <td>0.756195</td>\n",
       "    </tr>\n",
       "    <tr>\n",
       "      <th>4</th>\n",
       "      <td>Farm 5</td>\n",
       "      <td>-101.73</td>\n",
       "      <td>51.38</td>\n",
       "      <td>26.5</td>\n",
       "      <td>60.3</td>\n",
       "      <td>black</td>\n",
       "      <td>0.560868</td>\n",
       "    </tr>\n",
       "  </tbody>\n",
       "</table>\n",
       "</div>"
      ],
      "text/plain": [
       "  farm_name  farm_lon  farm_lat  temperature  precipitation soil_type  \\\n",
       "0    Farm 1   -104.31     51.05         24.7           83.8      None   \n",
       "1    Farm 2   -102.05     51.58         24.3           66.6     brown   \n",
       "2    Farm 3   -103.86     50.30         22.0           43.8      None   \n",
       "3    Farm 4   -100.16     51.28         32.0           81.3      gray   \n",
       "4    Farm 5   -101.73     51.38         26.5           60.3     black   \n",
       "\n",
       "   precentage_tot_prec  \n",
       "0             0.779448  \n",
       "1             0.619466  \n",
       "2             0.407396  \n",
       "3             0.756195  \n",
       "4             0.560868  "
      ]
     },
     "execution_count": 21,
     "metadata": {},
     "output_type": "execute_result"
    }
   ],
   "source": [
    "## Your code here down\n",
    "\n",
    "df['precentage_tot_prec'] = df['precipitation']/ df['precipitation'].sum() * 100\n",
    "df.head()\n",
    "\n",
    "## Your code here up"
   ]
  },
  {
   "cell_type": "markdown",
   "metadata": {},
   "source": [
    "9. Create a new column called \"precipitation_rank\" that ranks the farms based on their precipitation in ascending order, with ties being assigned the same rank."
   ]
  },
  {
   "cell_type": "code",
   "execution_count": 22,
   "metadata": {},
   "outputs": [
    {
     "data": {
      "text/html": [
       "<div>\n",
       "<style scoped>\n",
       "    .dataframe tbody tr th:only-of-type {\n",
       "        vertical-align: middle;\n",
       "    }\n",
       "\n",
       "    .dataframe tbody tr th {\n",
       "        vertical-align: top;\n",
       "    }\n",
       "\n",
       "    .dataframe thead th {\n",
       "        text-align: right;\n",
       "    }\n",
       "</style>\n",
       "<table border=\"1\" class=\"dataframe\">\n",
       "  <thead>\n",
       "    <tr style=\"text-align: right;\">\n",
       "      <th></th>\n",
       "      <th>farm_name</th>\n",
       "      <th>farm_lon</th>\n",
       "      <th>farm_lat</th>\n",
       "      <th>temperature</th>\n",
       "      <th>precipitation</th>\n",
       "      <th>soil_type</th>\n",
       "      <th>precentage_tot_prec</th>\n",
       "      <th>precipitation_rank</th>\n",
       "    </tr>\n",
       "  </thead>\n",
       "  <tbody>\n",
       "    <tr>\n",
       "      <th>0</th>\n",
       "      <td>Farm 1</td>\n",
       "      <td>-104.31</td>\n",
       "      <td>51.05</td>\n",
       "      <td>24.7</td>\n",
       "      <td>83.8</td>\n",
       "      <td>None</td>\n",
       "      <td>0.779448</td>\n",
       "      <td>184.0</td>\n",
       "    </tr>\n",
       "    <tr>\n",
       "      <th>1</th>\n",
       "      <td>Farm 2</td>\n",
       "      <td>-102.05</td>\n",
       "      <td>51.58</td>\n",
       "      <td>24.3</td>\n",
       "      <td>66.6</td>\n",
       "      <td>brown</td>\n",
       "      <td>0.619466</td>\n",
       "      <td>139.0</td>\n",
       "    </tr>\n",
       "    <tr>\n",
       "      <th>2</th>\n",
       "      <td>Farm 3</td>\n",
       "      <td>-103.86</td>\n",
       "      <td>50.30</td>\n",
       "      <td>22.0</td>\n",
       "      <td>43.8</td>\n",
       "      <td>None</td>\n",
       "      <td>0.407396</td>\n",
       "      <td>75.0</td>\n",
       "    </tr>\n",
       "    <tr>\n",
       "      <th>3</th>\n",
       "      <td>Farm 4</td>\n",
       "      <td>-100.16</td>\n",
       "      <td>51.28</td>\n",
       "      <td>32.0</td>\n",
       "      <td>81.3</td>\n",
       "      <td>gray</td>\n",
       "      <td>0.756195</td>\n",
       "      <td>175.0</td>\n",
       "    </tr>\n",
       "    <tr>\n",
       "      <th>4</th>\n",
       "      <td>Farm 5</td>\n",
       "      <td>-101.73</td>\n",
       "      <td>51.38</td>\n",
       "      <td>26.5</td>\n",
       "      <td>60.3</td>\n",
       "      <td>black</td>\n",
       "      <td>0.560868</td>\n",
       "      <td>120.0</td>\n",
       "    </tr>\n",
       "  </tbody>\n",
       "</table>\n",
       "</div>"
      ],
      "text/plain": [
       "  farm_name  farm_lon  farm_lat  temperature  precipitation soil_type  \\\n",
       "0    Farm 1   -104.31     51.05         24.7           83.8      None   \n",
       "1    Farm 2   -102.05     51.58         24.3           66.6     brown   \n",
       "2    Farm 3   -103.86     50.30         22.0           43.8      None   \n",
       "3    Farm 4   -100.16     51.28         32.0           81.3      gray   \n",
       "4    Farm 5   -101.73     51.38         26.5           60.3     black   \n",
       "\n",
       "   precentage_tot_prec  precipitation_rank  \n",
       "0             0.779448               184.0  \n",
       "1             0.619466               139.0  \n",
       "2             0.407396                75.0  \n",
       "3             0.756195               175.0  \n",
       "4             0.560868               120.0  "
      ]
     },
     "execution_count": 22,
     "metadata": {},
     "output_type": "execute_result"
    }
   ],
   "source": [
    "## Your code here down\n",
    "\n",
    "df['precipitation_rank'] = df['precipitation'].rank(method='min',ascending=True)\n",
    "df.head()\n",
    "\n",
    "## Your code here up"
   ]
  },
  {
   "cell_type": "markdown",
   "metadata": {},
   "source": [
    "10. Normalize the temperature column to a range between 0 and 1 for each farm."
   ]
  },
  {
   "cell_type": "code",
   "execution_count": 23,
   "metadata": {},
   "outputs": [
    {
     "data": {
      "text/html": [
       "<div>\n",
       "<style scoped>\n",
       "    .dataframe tbody tr th:only-of-type {\n",
       "        vertical-align: middle;\n",
       "    }\n",
       "\n",
       "    .dataframe tbody tr th {\n",
       "        vertical-align: top;\n",
       "    }\n",
       "\n",
       "    .dataframe thead th {\n",
       "        text-align: right;\n",
       "    }\n",
       "</style>\n",
       "<table border=\"1\" class=\"dataframe\">\n",
       "  <thead>\n",
       "    <tr style=\"text-align: right;\">\n",
       "      <th></th>\n",
       "      <th>farm_name</th>\n",
       "      <th>farm_lon</th>\n",
       "      <th>farm_lat</th>\n",
       "      <th>temperature</th>\n",
       "      <th>precipitation</th>\n",
       "      <th>soil_type</th>\n",
       "      <th>precentage_tot_prec</th>\n",
       "      <th>precipitation_rank</th>\n",
       "      <th>norm_temp</th>\n",
       "    </tr>\n",
       "  </thead>\n",
       "  <tbody>\n",
       "    <tr>\n",
       "      <th>0</th>\n",
       "      <td>Farm 1</td>\n",
       "      <td>-104.31</td>\n",
       "      <td>51.05</td>\n",
       "      <td>24.7</td>\n",
       "      <td>83.8</td>\n",
       "      <td>None</td>\n",
       "      <td>0.779448</td>\n",
       "      <td>184.0</td>\n",
       "      <td>0.442953</td>\n",
       "    </tr>\n",
       "    <tr>\n",
       "      <th>1</th>\n",
       "      <td>Farm 2</td>\n",
       "      <td>-102.05</td>\n",
       "      <td>51.58</td>\n",
       "      <td>24.3</td>\n",
       "      <td>66.6</td>\n",
       "      <td>brown</td>\n",
       "      <td>0.619466</td>\n",
       "      <td>139.0</td>\n",
       "      <td>0.416107</td>\n",
       "    </tr>\n",
       "    <tr>\n",
       "      <th>2</th>\n",
       "      <td>Farm 3</td>\n",
       "      <td>-103.86</td>\n",
       "      <td>50.30</td>\n",
       "      <td>22.0</td>\n",
       "      <td>43.8</td>\n",
       "      <td>None</td>\n",
       "      <td>0.407396</td>\n",
       "      <td>75.0</td>\n",
       "      <td>0.261745</td>\n",
       "    </tr>\n",
       "    <tr>\n",
       "      <th>3</th>\n",
       "      <td>Farm 4</td>\n",
       "      <td>-100.16</td>\n",
       "      <td>51.28</td>\n",
       "      <td>32.0</td>\n",
       "      <td>81.3</td>\n",
       "      <td>gray</td>\n",
       "      <td>0.756195</td>\n",
       "      <td>175.0</td>\n",
       "      <td>0.932886</td>\n",
       "    </tr>\n",
       "    <tr>\n",
       "      <th>4</th>\n",
       "      <td>Farm 5</td>\n",
       "      <td>-101.73</td>\n",
       "      <td>51.38</td>\n",
       "      <td>26.5</td>\n",
       "      <td>60.3</td>\n",
       "      <td>black</td>\n",
       "      <td>0.560868</td>\n",
       "      <td>120.0</td>\n",
       "      <td>0.563758</td>\n",
       "    </tr>\n",
       "  </tbody>\n",
       "</table>\n",
       "</div>"
      ],
      "text/plain": [
       "  farm_name  farm_lon  farm_lat  temperature  precipitation soil_type  \\\n",
       "0    Farm 1   -104.31     51.05         24.7           83.8      None   \n",
       "1    Farm 2   -102.05     51.58         24.3           66.6     brown   \n",
       "2    Farm 3   -103.86     50.30         22.0           43.8      None   \n",
       "3    Farm 4   -100.16     51.28         32.0           81.3      gray   \n",
       "4    Farm 5   -101.73     51.38         26.5           60.3     black   \n",
       "\n",
       "   precentage_tot_prec  precipitation_rank  norm_temp  \n",
       "0             0.779448               184.0   0.442953  \n",
       "1             0.619466               139.0   0.416107  \n",
       "2             0.407396                75.0   0.261745  \n",
       "3             0.756195               175.0   0.932886  \n",
       "4             0.560868               120.0   0.563758  "
      ]
     },
     "execution_count": 23,
     "metadata": {},
     "output_type": "execute_result"
    }
   ],
   "source": [
    "## Your code here down\n",
    "\n",
    "min_temp = df['temperature'].min()\n",
    "max_temp = df['temperature'].max()\n",
    "df['norm_temp']= (df['temperature']-min_temp)/(max_temp-min_temp)\n",
    "df.head()\n",
    "\n",
    "## Your code here up"
   ]
  },
  {
   "cell_type": "markdown",
   "metadata": {},
   "source": [
    "# Assignment 4"
   ]
  },
  {
   "cell_type": "markdown",
   "metadata": {},
   "source": [
    "## ETL"
   ]
  },
  {
   "cell_type": "markdown",
   "metadata": {},
   "source": [
    "11. Change column types accordingly."
   ]
  },
  {
   "cell_type": "code",
   "execution_count": 24,
   "metadata": {},
   "outputs": [
    {
     "name": "stdout",
     "output_type": "stream",
     "text": [
      "<class 'pandas.core.frame.DataFrame'>\n",
      "RangeIndex: 200 entries, 0 to 199\n",
      "Data columns (total 9 columns):\n",
      " #   Column               Non-Null Count  Dtype  \n",
      "---  ------               --------------  -----  \n",
      " 0   farm_name            200 non-null    object \n",
      " 1   farm_lon             200 non-null    float64\n",
      " 2   farm_lat             200 non-null    float64\n",
      " 3   temperature          200 non-null    float64\n",
      " 4   precipitation        200 non-null    float64\n",
      " 5   soil_type            200 non-null    object \n",
      " 6   precentage_tot_prec  200 non-null    float64\n",
      " 7   precipitation_rank   200 non-null    float64\n",
      " 8   norm_temp            200 non-null    float64\n",
      "dtypes: float64(7), object(2)\n",
      "memory usage: 14.2+ KB\n"
     ]
    }
   ],
   "source": [
    "## Your code here down\n",
    "\n",
    "df['farm_name'] = df['farm_name'].astype(str)\n",
    "df['soil_type'] = df['soil_type'].astype(str)\n",
    "df.info()\n",
    "\n",
    "## Your code here up"
   ]
  },
  {
   "cell_type": "markdown",
   "metadata": {},
   "source": [
    "## EDA"
   ]
  },
  {
   "cell_type": "markdown",
   "metadata": {},
   "source": [
    "12. Find missing values and give information how would you handle them"
   ]
  },
  {
   "cell_type": "code",
   "execution_count": 25,
   "metadata": {},
   "outputs": [],
   "source": [
    "## Install geopandas\n",
    "#!pip install geopandas\n",
    "\n",
    "## Import geopandas and Point.\n",
    "import geopandas as gpd\n",
    "from shapely.geometry import Point\n",
    "\n",
    "## Import plotting libraries\n",
    "import matplotlib.pyplot as plt\n",
    "import seaborn as sns\n"
   ]
  },
  {
   "cell_type": "code",
   "execution_count": 26,
   "metadata": {},
   "outputs": [
    {
     "name": "stdout",
     "output_type": "stream",
     "text": [
      "<class 'pandas.core.frame.DataFrame'>\n",
      "Int64Index: 200 entries, 0 to 199\n",
      "Data columns (total 9 columns):\n",
      " #   Column               Non-Null Count  Dtype  \n",
      "---  ------               --------------  -----  \n",
      " 0   farm_name            200 non-null    object \n",
      " 1   farm_lon             200 non-null    float64\n",
      " 2   farm_lat             200 non-null    float64\n",
      " 3   temperature          200 non-null    float64\n",
      " 4   precipitation        200 non-null    float64\n",
      " 5   soil_type            200 non-null    object \n",
      " 6   precentage_tot_prec  200 non-null    float64\n",
      " 7   precipitation_rank   200 non-null    float64\n",
      " 8   norm_temp            200 non-null    float64\n",
      "dtypes: float64(7), object(2)\n",
      "memory usage: 15.6+ KB\n"
     ]
    }
   ],
   "source": [
    "## Your code here down\n",
    "\n",
    "## From the df.info(), we can see that soil_type only has 160 non-null values instead of 200.\n",
    "## Replace the null soil_type with np.nan.\n",
    "df['soil_type'] = df['soil_type'].fillna(np.nan)\n",
    "## Separate the df into two dataframes, one with non-null soil_type and one with null.\n",
    "df1 = df[df['soil_type'].notna()]\n",
    "df2 = df[df['soil_type'].isna()]\n",
    "\n",
    "\n",
    "\n",
    "## Create GeoDataFrames.\n",
    "gdf1 = gpd.GeoDataFrame(df1, geometry=gpd.points_from_xy(df1['farm_lon'], df1['farm_lat']))\n",
    "gdf2 = gpd.GeoDataFrame(df2, geometry=gpd.points_from_xy(df2['farm_lon'], df2['farm_lat']))\n",
    "\n",
    "## Assignment the soil_type in gdf2 with gdf1 soil_type data that is closest to the df2 in geometry data.\n",
    "gdf2['soil_type'] = gdf2.geometry.apply(lambda x: gdf1.loc[gdf1.distance(x).idxmin(),['soil_type']])\n",
    "\n",
    "# Checked that df2 and gdf2 have the same 'farm_name'. Convert the Dtype to string, and combine df1 and df2 to df_cleaned.\n",
    "#df2['farm_name'] == gdf2['farm_name'].astype(str) # True\n",
    "df2['soil_type'] = gdf2['soil_type'].astype(str)\n",
    "df_cleaned = pd.concat([df1,df2])\n",
    "df_cleaned.info()\n",
    "\n",
    "## Your code here up"
   ]
  },
  {
   "cell_type": "markdown",
   "metadata": {},
   "source": [
    "13. Find outliers if there is any how would you handle them"
   ]
  },
  {
   "cell_type": "code",
   "execution_count": 27,
   "metadata": {},
   "outputs": [
    {
     "data": {
      "text/html": [
       "<div>\n",
       "<style scoped>\n",
       "    .dataframe tbody tr th:only-of-type {\n",
       "        vertical-align: middle;\n",
       "    }\n",
       "\n",
       "    .dataframe tbody tr th {\n",
       "        vertical-align: top;\n",
       "    }\n",
       "\n",
       "    .dataframe thead th {\n",
       "        text-align: right;\n",
       "    }\n",
       "</style>\n",
       "<table border=\"1\" class=\"dataframe\">\n",
       "  <thead>\n",
       "    <tr style=\"text-align: right;\">\n",
       "      <th></th>\n",
       "      <th>farm_name</th>\n",
       "      <th>farm_lon</th>\n",
       "      <th>farm_lat</th>\n",
       "      <th>temperature</th>\n",
       "      <th>precipitation</th>\n",
       "      <th>soil_type</th>\n",
       "      <th>precentage_tot_prec</th>\n",
       "      <th>precipitation_rank</th>\n",
       "      <th>norm_temp</th>\n",
       "    </tr>\n",
       "  </thead>\n",
       "  <tbody>\n",
       "  </tbody>\n",
       "</table>\n",
       "</div>"
      ],
      "text/plain": [
       "Empty DataFrame\n",
       "Columns: [farm_name, farm_lon, farm_lat, temperature, precipitation, soil_type, precentage_tot_prec, precipitation_rank, norm_temp]\n",
       "Index: []"
      ]
     },
     "execution_count": 27,
     "metadata": {},
     "output_type": "execute_result"
    }
   ],
   "source": [
    "## Your code here down\n",
    "\n",
    "## Use IQR Method to find outliers less than Q1 - 1.5*IQR or greater than Q3 + 1.5*IQR\n",
    "## Depeding on the distribution, replace the outliers with mean, median, average of neighbours, or np.nan\n",
    "\n",
    "## Only 'temperature' and 'precipitation' columns will be examed here for outliers.\n",
    "\n",
    "## Create a function to find outliers and replace them with np.nan.\n",
    "\n",
    "def find_outliers(df, column):\n",
    "    Q1 = df[column].quantile(0.25)\n",
    "    Q3 = df[column].quantile(0.75)\n",
    "    IQR = Q3 - Q1\n",
    "    lower_limit = Q1 - 1.5*IQR\n",
    "    upper_limit = Q3 + 1.5*IQR\n",
    "    outliers = df[(df[column] < lower_limit) | (df[column] > upper_limit)]\n",
    "    outliers[column] = np.nan\n",
    "    return outliers\n",
    "\n",
    "## 'temperature' and 'precipitation' columns will be examed for outliers\n",
    "find_outliers(df_cleaned, 'temperature')  # no outliers\n",
    "find_outliers(df_cleaned, 'precipitation') # no outliers\n",
    "\n",
    "## Your code here up"
   ]
  },
  {
   "cell_type": "markdown",
   "metadata": {},
   "source": [
    "14. Find descriptive statistics for relavant columns and plot them by using bars."
   ]
  },
  {
   "cell_type": "code",
   "execution_count": 28,
   "metadata": {},
   "outputs": [
    {
     "name": "stdout",
     "output_type": "stream",
     "text": [
      "       temperature  precipitation\n",
      "count   200.000000     200.000000\n",
      "mean     25.185000      53.756000\n",
      "std       4.278704      20.483914\n",
      "min      18.100000      20.100000\n",
      "25%      21.800000      37.425000\n",
      "50%      24.950000      51.800000\n",
      "75%      28.450000      72.450000\n",
      "max      33.000000      88.000000\n"
     ]
    },
    {
     "data": {
      "image/png": "[encoded data removed]",
      "text/plain": [
       "<Figure size 640x480 with 1 Axes>"
      ]
     },
     "metadata": {},
     "output_type": "display_data"
    }
   ],
   "source": [
    "## Your code here down\n",
    "\n",
    "## Descriptive statistics of 'temperature' and 'precipitation' columns\n",
    "desc_stat = df[['temperature','precipitation']].describe()\n",
    "print(desc_stat)\n",
    "\n",
    "## Plot the descriptive statistics of 'temperature' and 'precipitation' columns.\n",
    "## Drop the 'count' row\n",
    "desc_stat.drop('count').transpose().plot(kind='bar')\n",
    "\n",
    "plt.title('Descriptive Statistics of Temperature and Precipitation')\n",
    "plt.xlabel('Weather Data')\n",
    "plt.ylabel('Value')\n",
    "plt.show()\n",
    "\n",
    "## Your code here up"
   ]
  },
  {
   "cell_type": "markdown",
   "metadata": {},
   "source": [
    "15. Plot the distribution of relevant columns."
   ]
  },
  {
   "cell_type": "code",
   "execution_count": 29,
   "metadata": {},
   "outputs": [
    {
     "data": {
      "image/png": "[encoded data removed]",
      "text/plain": [
       "<Figure size 1000x500 with 1 Axes>"
      ]
     },
     "metadata": {},
     "output_type": "display_data"
    },
    {
     "data": {
      "image/png": "[encoded data removed]",
      "text/plain": [
       "<Figure size 1000x500 with 1 Axes>"
      ]
     },
     "metadata": {},
     "output_type": "display_data"
    }
   ],
   "source": [
    "## Your code here down\n",
    "\n",
    "## Histogram of 'temperature'\n",
    "plt.figure(figsize=(10,5))\n",
    "sns.histplot(df_cleaned['temperature'])\n",
    "plt.title('Histogram of Temperature')\n",
    "plt.show()\n",
    "\n",
    "## Histogram of 'precipitation'\n",
    "plt.figure(figsize=(10,5))\n",
    "sns.histplot(df_cleaned['precipitation'])\n",
    "plt.title('Histogram of Precipitation')\n",
    "plt.show()\n",
    "\n",
    "## Your code here up"
   ]
  }
 ],
 "metadata": {
  "kernelspec": {
   "display_name": "Python 3 (ipykernel)",
   "language": "python",
   "name": "python3"
  },
  "language_info": {
   "codemirror_mode": {
    "name": "ipython",
    "version": 3
   },
   "file_extension": ".py",
   "mimetype": "text/x-python",
   "name": "python",
   "nbconvert_exporter": "python",
   "pygments_lexer": "ipython3",
   "version": "3.11.3"
  }
 },
 "nbformat": 4,
 "nbformat_minor": 4
}
